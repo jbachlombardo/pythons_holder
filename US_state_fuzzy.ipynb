{
 "cells": [
  {
   "cell_type": "code",
   "execution_count": 1,
   "metadata": {},
   "outputs": [],
   "source": [
    "from fuzzywuzzy import fuzz, process\n",
    "import pandas as pd\n",
    "import numpy as np\n",
    "import seaborn as sns\n",
    "import matplotlib.pyplot as plt\n",
    "from usefulfcns import create_metrics"
   ]
  },
  {
   "cell_type": "code",
   "execution_count": 2,
   "metadata": {},
   "outputs": [],
   "source": [
    "df = pd.read_csv('/Users/jbachlombardo/Documents/Tere International/Clients/PIPD/Ad data/Lifetime Jan 12 2019/PIPD-Ads-Lifetime_190112_region.csv')"
   ]
  },
  {
   "cell_type": "code",
   "execution_count": 3,
   "metadata": {},
   "outputs": [],
   "source": [
    "ppo_map = dict()\n",
    "for a in process.extract('Pro-Palestine Orgs', df['Ad set name'].unique(), limit = 15, scorer = fuzz.token_sort_ratio) :\n",
    "    if a[1] > 70 :\n",
    "        ppo_map[a[0]] = 'Pro-Palestine Orgs'"
   ]
  },
  {
   "cell_type": "code",
   "execution_count": 4,
   "metadata": {},
   "outputs": [],
   "source": [
    "pipd_ll_map = dict()\n",
    "for a in process.extract('PIPD Lookalike', df['Ad set name'].unique(), limit = 15, scorer = fuzz.token_set_ratio) :\n",
    "    if a[1] >= 90 :\n",
    "        pipd_ll_map[a[0]] = 'US PIPD Lookalike'"
   ]
  },
  {
   "cell_type": "code",
   "execution_count": 5,
   "metadata": {},
   "outputs": [],
   "source": [
    "sj_map = dict()\n",
    "for a in process.extract('Social justice', df['Ad set name'].unique(), limit = 15, scorer = fuzz.token_set_ratio) :\n",
    "    if a[1] > 95 :\n",
    "        sj_map[a[0]] = 'US Social Justice'"
   ]
  },
  {
   "cell_type": "code",
   "execution_count": 6,
   "metadata": {},
   "outputs": [],
   "source": [
    "pipd_eng_map = {'PIPD Engagement': 'US PIPD Engagement', 'PIPD engagement': 'US PIPD Engagement', 'PIPD Engagement US': 'US PIPD Engagement'}"
   ]
  },
  {
   "cell_type": "code",
   "execution_count": 7,
   "metadata": {},
   "outputs": [
    {
     "data": {
      "text/plain": [
       "53091"
      ]
     },
     "execution_count": 7,
     "metadata": {},
     "output_type": "execute_result"
    }
   ],
   "source": [
    "df['Ad set name'].value_counts().loc[sj_map.keys()].sum() + df['Ad set name'].value_counts().loc[pipd_eng_map.keys()].sum() + df['Ad set name'].value_counts().loc[ppo_map.keys()].sum() + df['Ad set name'].value_counts().loc[pipd_ll_map.keys()].sum()"
   ]
  },
  {
   "cell_type": "code",
   "execution_count": 8,
   "metadata": {},
   "outputs": [],
   "source": [
    "mapper = {**ppo_map, **pipd_ll_map, **pipd_eng_map, **sj_map}"
   ]
  },
  {
   "cell_type": "code",
   "execution_count": 9,
   "metadata": {},
   "outputs": [],
   "source": [
    "df['Grouped US set'] = df['Ad set name'].map(mapper)"
   ]
  },
  {
   "cell_type": "code",
   "execution_count": 10,
   "metadata": {},
   "outputs": [],
   "source": [
    "states = ['Alabama', 'Alaska', 'Arizona', 'Arkansas', 'California',\n",
    "       'Colorado', 'Connecticut', 'Delaware', 'District of Columbia',\n",
    "       'Florida', 'Georgia', 'Hawaii', 'Idaho', 'Illinois', 'Indiana',\n",
    "       'Iowa', 'Kansas', 'Kentucky', 'Louisiana', 'Maine', 'Maryland',\n",
    "       'Massachusetts', 'Michigan', 'Minnesota', 'Mississippi',\n",
    "       'Missouri', 'Montana', 'Nebraska', 'Nevada', 'New Hampshire',\n",
    "       'New Jersey', 'New Mexico', 'New York', 'North Carolina',\n",
    "       'North Dakota', 'Ohio', 'Oklahoma', 'Oregon', 'Pennsylvania',\n",
    "       'Rhode Island', 'South Carolina', 'South Dakota', 'Tennessee',\n",
    "       'Texas', 'Utah', 'Vermont', 'Virginia', 'Washington',\n",
    "       'West Virginia', 'Wisconsin', 'Wyoming']"
   ]
  },
  {
   "cell_type": "code",
   "execution_count": 11,
   "metadata": {},
   "outputs": [],
   "source": [
    "df['Grouped US set'] = df['Grouped US set'].fillna('Other')"
   ]
  },
  {
   "cell_type": "code",
   "execution_count": 12,
   "metadata": {},
   "outputs": [],
   "source": [
    "df = df[df['Region'].isin(states)]"
   ]
  },
  {
   "cell_type": "code",
   "execution_count": 13,
   "metadata": {},
   "outputs": [],
   "source": [
    "state_level = create_metrics(df, level = ['Grouped US set', 'Region'])"
   ]
  },
  {
   "cell_type": "code",
   "execution_count": 22,
   "metadata": {},
   "outputs": [
    {
     "data": {
      "text/plain": [
       "Index(['Reach', 'Impressions', 'Post engagement', 'Post comments',\n",
       "       'Post shares', 'Link clicks', 'Amount spent (USD)', 'Cost per reach',\n",
       "       'Cost per impressions', 'Cost per post engagement',\n",
       "       'Cost per post comments', 'Cost per post shares',\n",
       "       'Cost per link clicks', 'Cost per quality engagement',\n",
       "       'Engagement rate'],\n",
       "      dtype='object')"
      ]
     },
     "execution_count": 22,
     "metadata": {},
     "output_type": "execute_result"
    }
   ],
   "source": [
    "state_level.columns"
   ]
  },
  {
   "cell_type": "code",
   "execution_count": 39,
   "metadata": {},
   "outputs": [],
   "source": [
    "lc = create_metrics(df[df['Objective'] == 'Traffic'], level = ['Grouped US set', 'Region'])\n",
    "eng = create_metrics(df[df['Objective'] == 'Engagement'], level = ['Grouped US set', 'Region'])"
   ]
  },
  {
   "cell_type": "code",
   "execution_count": 40,
   "metadata": {},
   "outputs": [],
   "source": [
    "cpl = pd.pivot_table(lc, values = 'Cost per link clicks', index = 'Region', columns = 'Grouped US set')\n",
    "cpl['Top performing'] = cpl.idxmin(axis = 1)"
   ]
  },
  {
   "cell_type": "code",
   "execution_count": 41,
   "metadata": {},
   "outputs": [],
   "source": [
    "cpe = pd.pivot_table(eng, values = 'Cost per post engagement', index = 'Region', columns = 'Grouped US set')\n",
    "cpe['Top performing'] = cpe.idxmin(axis = 1)"
   ]
  },
  {
   "cell_type": "code",
   "execution_count": 36,
   "metadata": {},
   "outputs": [],
   "source": [
    "cpqe = pd.pivot_table(state_level, values = 'Cost per quality engagement', index = 'Region', columns = 'Grouped US set')\n",
    "cpqe['Top performing'] = cpqe.idxmin(axis = 1)"
   ]
  },
  {
   "cell_type": "code",
   "execution_count": 44,
   "metadata": {},
   "outputs": [],
   "source": [
    "lc['Clickthrough'] = lc['Link clicks'] / lc['Impressions']"
   ]
  },
  {
   "cell_type": "code",
   "execution_count": 48,
   "metadata": {},
   "outputs": [],
   "source": [
    "lcc = pd.pivot_table(lc, values = 'Clickthrough', index = 'Region', columns = 'Grouped US set')\n",
    "lcc['Top performing'] = lcc.idxmax(axis = 1)"
   ]
  },
  {
   "cell_type": "code",
   "execution_count": 50,
   "metadata": {},
   "outputs": [],
   "source": [
    "engr = pd.pivot_table(eng, values = 'Engagement rate', index = 'Region', columns = 'Grouped US set')\n",
    "engr['Top performing'] = engr.idxmax(axis = 1)"
   ]
  },
  {
   "cell_type": "code",
   "execution_count": 53,
   "metadata": {},
   "outputs": [],
   "source": [
    "eng['Qual engage rate'] = eng[['Post comments', 'Post shares', 'Link clicks']].sum(axis = 1) / eng['Impressions']"
   ]
  },
  {
   "cell_type": "code",
   "execution_count": 55,
   "metadata": {},
   "outputs": [],
   "source": [
    "qualengr = pd.pivot_table(eng, values = 'Qual engage rate', index = 'Region', columns = 'Grouped US set')\n",
    "qualengr['Top performing'] = qualengr.idxmax(axis = 1)"
   ]
  },
  {
   "cell_type": "code",
   "execution_count": 59,
   "metadata": {},
   "outputs": [],
   "source": [
    "writer = pd.ExcelWriter('/Users/jbachlombardo/Documents/Tere International/Clients/PIPD/Ad data/Lifetime Jan 12 2019/State level US.xlsx')\n",
    "state_level.to_excel(writer, sheet_name = 'Raw totals')\n",
    "cpl.to_excel(writer, sheet_name = 'Cost per link click')\n",
    "cpe.to_excel(writer, sheet_name = 'Cost per post engagement')\n",
    "cpqe.to_excel(writer, sheet_name = 'Cost per quality engagement')\n",
    "lcc.to_excel(writer, sheet_name = 'Clickthrough rate (Traffic)')\n",
    "engr.to_excel(writer, sheet_name = 'Engagement rate (Eng)')\n",
    "qualengr.to_excel(writer, sheet_name = 'Quality engagement rate (Eng)')\n",
    "writer.close()"
   ]
  },
  {
   "cell_type": "code",
   "execution_count": null,
   "metadata": {},
   "outputs": [],
   "source": []
  }
 ],
 "metadata": {
  "kernelspec": {
   "display_name": "Python 3",
   "language": "python",
   "name": "python3"
  },
  "language_info": {
   "codemirror_mode": {
    "name": "ipython",
    "version": 3
   },
   "file_extension": ".py",
   "mimetype": "text/x-python",
   "name": "python",
   "nbconvert_exporter": "python",
   "pygments_lexer": "ipython3",
   "version": "3.6.8"
  }
 },
 "nbformat": 4,
 "nbformat_minor": 2
}
