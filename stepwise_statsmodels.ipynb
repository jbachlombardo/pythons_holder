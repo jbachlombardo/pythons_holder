{
 "cells": [
  {
   "cell_type": "code",
   "execution_count": 5,
   "metadata": {},
   "outputs": [],
   "source": [
    "from scipy import stats\n",
    "import numpy as np\n",
    "import pandas as pd\n",
    "import matplotlib.pyplot as plt\n",
    "import statsmodels.formula.api as smf\n",
    "import statsmodels.api as sm"
   ]
  },
  {
   "cell_type": "code",
   "execution_count": 168,
   "metadata": {},
   "outputs": [],
   "source": [
    "mydata=pd.read_csv(\"http://www.datadescant.com/stat104/monet.csv\")"
   ]
  },
  {
   "cell_type": "code",
   "execution_count": 169,
   "metadata": {},
   "outputs": [],
   "source": [
    "#DON'T FORGET TO DO ANY NECESSARY PRE-PROCESSING!!!!!!!"
   ]
  },
  {
   "cell_type": "code",
   "execution_count": 170,
   "metadata": {},
   "outputs": [],
   "source": [
    "mydata = pd.concat([mydata, pd.get_dummies(mydata['HOUSE '], drop_first = True, prefix = 'HOUSE')], axis = 1)"
   ]
  },
  {
   "cell_type": "code",
   "execution_count": 171,
   "metadata": {},
   "outputs": [],
   "source": [
    "mydata = mydata.drop('HOUSE ', axis = 1)"
   ]
  },
  {
   "cell_type": "code",
   "execution_count": 377,
   "metadata": {},
   "outputs": [],
   "source": [
    "def stepwise_by_pval(data, y_col, thresh = 0.05) :\n",
    "    \"\"\"Function to perform stepwise regression at removing explanatory variables at p-value threshold of 0.05\"\"\"\n",
    "    dropped_list = list()\n",
    "    y = data[y_col]\n",
    "    x_cols = list(data.columns)\n",
    "    x_cols.remove(y_col)\n",
    "    X = sm.add_constant(data[x_cols])\n",
    "    while True :\n",
    "        lm = sm.OLS(y, X).fit()\n",
    "        pvals = lm.pvalues\n",
    "        pvals = pvals[pvals.index != 'const']\n",
    "        if pvals.max() > thresh :\n",
    "            drop_name = pvals.idxmax()\n",
    "            X = X.drop(drop_name, axis = 1)\n",
    "            dropped_list.append((drop_name, pvals.loc[drop_name]))\n",
    "            continue\n",
    "        else :\n",
    "            break\n",
    "    return (lm, lm.params, np.sqrt(lm.scale), dropped_list)"
   ]
  },
  {
   "cell_type": "code",
   "execution_count": 378,
   "metadata": {},
   "outputs": [],
   "source": [
    "lm_pval, params_pval, se_pval, dropped_pval = stepwise_by_pval(mydata, 'PRICE')"
   ]
  },
  {
   "cell_type": "code",
   "execution_count": 375,
   "metadata": {},
   "outputs": [],
   "source": [
    "def stepwise_by_aic(data, y_col) :\n",
    "    \"\"\"Function to perform stepwise regression by minimizing AIC\"\"\"\n",
    "    y = data[y_col]\n",
    "    x_cols = list(data.columns)\n",
    "    x_cols.remove(y_col)\n",
    "    X = sm.add_constant(data[x_cols])\n",
    "    lm = sm.OLS(y, X).fit()\n",
    "    aic = lm.aic\n",
    "    progress_aic = {}\n",
    "    progress_aic[lm.aic] = x_cols\n",
    "    while True :\n",
    "        new_low_aic_cols = 0\n",
    "        for i in range(len(x_cols)) :\n",
    "            mask = np.ones(len(x_cols))\n",
    "            mask[i] = False\n",
    "            new_x_cols = [c for c, m in zip(x_cols, mask) if m]\n",
    "            lm_new = sm.OLS(y, sm.add_constant(data[new_x_cols])).fit()\n",
    "            if lm_new.aic < aic :\n",
    "                lm_report = lm_new\n",
    "                aic = lm_report.aic\n",
    "                new_low_aic_cols = new_x_cols\n",
    "        if new_low_aic_cols == 0 :\n",
    "            break\n",
    "        else :\n",
    "            x_cols = new_low_aic_cols\n",
    "            progress_aic[aic] = new_low_aic_cols\n",
    "    return lm_report, lm_report.params, np.sqrt(lm_report.scale), progress_aic"
   ]
  },
  {
   "cell_type": "code",
   "execution_count": 376,
   "metadata": {},
   "outputs": [],
   "source": [
    "lm_aic, params_aic, se_aic, progress_aic = stepwise_by_aic(mydata, 'PRICE')"
   ]
  },
  {
   "cell_type": "code",
   "execution_count": null,
   "metadata": {},
   "outputs": [],
   "source": []
  }
 ],
 "metadata": {
  "kernelspec": {
   "display_name": "Python 3",
   "language": "python",
   "name": "python3"
  },
  "language_info": {
   "codemirror_mode": {
    "name": "ipython",
    "version": 3
   },
   "file_extension": ".py",
   "mimetype": "text/x-python",
   "name": "python",
   "nbconvert_exporter": "python",
   "pygments_lexer": "ipython3",
   "version": "3.6.8"
  }
 },
 "nbformat": 4,
 "nbformat_minor": 2
}
